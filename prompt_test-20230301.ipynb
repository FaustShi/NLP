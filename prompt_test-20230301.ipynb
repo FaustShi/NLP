{
 "cells": [
  {
   "cell_type": "code",
   "execution_count": 1,
   "id": "ebcc6cde-d118-427d-9e72-f19c82aca027",
   "metadata": {},
   "outputs": [
    {
     "name": "stderr",
     "output_type": "stream",
     "text": [
      "/usr/local/lib/python3.10/dist-packages/tqdm/auto.py:22: TqdmWarning: IProgress not found. Please update jupyter and ipywidgets. See https://ipywidgets.readthedocs.io/en/stable/user_install.html\n",
      "  from .autonotebook import tqdm as notebook_tqdm\n"
     ]
    }
   ],
   "source": [
    "#!/usr/bin/env python\n",
    "# coding: utf-8\n",
    "\n",
    "import os\n",
    "import requests\n",
    "import datetime\n",
    "from tqdm import tqdm\n",
    "import pandas as pd\n",
    "import re\n",
    "import xml.etree.cElementTree as ET\n",
    "from transformers import AutoTokenizer, OPTForCausalLM, OPTModel"
   ]
  },
  {
   "cell_type": "markdown",
   "id": "31ec5ab4-a335-4aba-9845-b98cd6d3e70c",
   "metadata": {
    "tags": []
   },
   "source": [
    "# 从xml中获取文本 path：存放xml的文件夹 (./xml)  get_type：获取的内容（text abstract caption title）"
   ]
  },
  {
   "cell_type": "code",
   "execution_count": 2,
   "id": "63588589-7a2c-45e2-b212-26e6d45914b9",
   "metadata": {},
   "outputs": [],
   "source": [
    "def get_text_from_xml(path, get_type):\n",
    "    _filepath = path\n",
    "    _get_type=get_type\n",
    "    files = os.listdir(_filepath)\n",
    "    _temp_data = []\n",
    "    _temp_abstract = []\n",
    "    _temp_caption = []\n",
    "    data = {}\n",
    "    abstract = {}\n",
    "    caption = {}\n",
    "    title = {}\n",
    "\n",
    "    for file in files:\n",
    "        if os.path.isfile(os.path.join(_filepath, file)):\n",
    "            root = os.path.join(_filepath, file)\n",
    "            doc = ET.parse(root).getroot()\n",
    "            for elem in doc.iter():\n",
    "    #           Get title\n",
    "                if 'coredata' in elem.tag:\n",
    "                    for core in elem:\n",
    "                        if 'title' in core.tag:\n",
    "    #                         print(core.text)\n",
    "                            _temp_title = core.text\n",
    "                            _temp_title = re.sub(\"\\n\", '', _temp_title)\n",
    "                            _temp_title = re.sub(\"\\xa0\", '', _temp_title)\n",
    "                            _temp_title = ' '.join(_temp_title.split())\n",
    "    #           Get abstract\n",
    "                if 'abstract' in elem.tag:\n",
    "                    for abs_child in elem:\n",
    "    #                     print(abs_child.tag+' Here!')\n",
    "                        if 'simple-para' in abs_child.tag:\n",
    "    #                         print(abs_child.tag)\n",
    "                            abs_text = ''.join(abs_child.itertext())\n",
    "            #               Remove \\n and \\xa0 string literals\n",
    "                            abs_text = re.sub(\"\\n\", '', abs_text)\n",
    "                            abs_text = re.sub(\"\\xa0\", '', abs_text)\n",
    "            #               Remove reference citations\n",
    "            #               Can't use simple removal of [xxx] since crystallographic notation is in this form\n",
    "    #                         pre_clean = re.sub(\"[\\[].*?[\\]]\", \"\", pre_clean)\n",
    "            #               Extract abstract and captions\n",
    "            #               --------------------Clean sentences----------------\n",
    "                            abs_text = ' '.join(abs_text.split())\n",
    "    #                       to_save_abs = ''.join(abs_text.split())\n",
    "    #                         print('Some text is:', abs_text)\n",
    "                            _temp_abstract.append(abs_text)\n",
    "    #           Remove empty elements\n",
    "                _temp_abstract = list(filter(None, _temp_abstract))\n",
    "    #           Get caption\n",
    "                if 'caption' in elem.tag:\n",
    "                    for cap_child in elem:\n",
    "    #                     print(cap_child.tag)\n",
    "                        if 'simple-para' in cap_child.tag:\n",
    "                            cap_text = ''.join(cap_child.itertext())\n",
    "            #               Remove \\n and \\xa0 string literals\n",
    "                            cap_text = re.sub(\"\\n\", '', cap_text)\n",
    "                            cap_text = re.sub(\"\\xa0\", '', cap_text)\n",
    "            #               Remove reference citations\n",
    "            #               Can't use simple removal of [xxx] since crystallographic notation is in this form\n",
    "    #                         pre_clean = re.sub(\"[\\[].*?[\\]]\", \"\", pre_clean)\n",
    "            #               Extract abstract and captions\n",
    "            #               --------------------Clean sentences----------------\n",
    "                            cap_text = ' '.join(cap_text.split())\n",
    "    #                       to_save_abs = ''.join(abs_text.split())\n",
    "    #                         print('Some text is:', abs_text)\n",
    "                            _temp_caption.append(cap_text)\n",
    "                caption[file] = _temp_caption\n",
    "    #           Get text\n",
    "                if 'para' in elem.tag and 'simple-para' not in elem.tag:\n",
    "    #               --------------------remove equations -----------------------\n",
    "                    for _child in elem:\n",
    "    #                     print(_child.tag)\n",
    "                        if 'display' in _child.tag:\n",
    "                            for __child in _child:\n",
    "    #                             print(__child.tag)\n",
    "                                if 'formula' in __child.tag:\n",
    "                                    _child.remove(__child)\n",
    "    #               --------------------remove equations ------------------------\n",
    "    #               --------------------------Clean sentences--------------------\n",
    "    #               Extract text from XML\n",
    "                    pre_clean = ''.join(elem.itertext())\n",
    "    #               Remove \\n and \\xa0 string literals\n",
    "                    pre_clean = re.sub(\"\\n\", '', pre_clean)\n",
    "                    pre_clean = re.sub(\"\\xa0\", '', pre_clean)\n",
    "    #               Remove reference citations\n",
    "    #               Can't use simple removal of [xxx] since crystallographic notation is in this form\n",
    "                    pre_clean = re.sub(\"[\\[].*?[\\]]\", \"\", pre_clean)\n",
    "    #               Extract abstract and captions\n",
    "    #               --------------------Clean sentences----------------\n",
    "                    pre_clean = ' '.join(pre_clean.split())\n",
    "                    # Collect text in _temp_data\n",
    "                    _temp_data.append(pre_clean)\n",
    "        data[file] = _temp_data\n",
    "        abstract[file] = _temp_abstract\n",
    "        caption[file] = _temp_caption\n",
    "        #title[file] = _temp_title\n",
    "        _temp_data = []\n",
    "        _temp_abstract = []\n",
    "        _temp_caption = []\n",
    "    if _get_type == 'text':\n",
    "        return data\n",
    "    elif _get_type == 'abstract':\n",
    "        return abstract\n",
    "    elif _get_type == 'caption':\n",
    "        return caption\n",
    "    elif _get_type == 'title':\n",
    "        return title"
   ]
  },
  {
   "cell_type": "code",
   "execution_count": 3,
   "id": "b0ad2dae-6af0-4b4c-8f6c-ac33e74322a2",
   "metadata": {},
   "outputs": [],
   "source": [
    "class Extractor():\n",
    "    def __init__(self, model, examples, example_labels, description, task_description, example_prompt):\n",
    "        self.model = model\n",
    "        self.examples = examples\n",
    "        self.example_labels = example_labels\n",
    "        self.description = description\n",
    "        self.task_description = task_description\n",
    "        self.example_prompt = example_prompt\n",
    "\n",
    "    def make_prompt(self, example):\n",
    "        examples = self.examples + [example]\n",
    "        labels = self.example_labels + [\"\"]\n",
    "        # return (self.task_description +\n",
    "        #         \"\\n\".join([self.description+examples[i] + \"\\n\" +\n",
    "        #                         self.example_prompt +\n",
    "        #                          labels[i] for i in range(len(examples))]))\n",
    "        # print((\"\\n\".join([self.description + examples[i] + \"\\n\" +\n",
    "        #                   self.example_prompt +\n",
    "        #                   labels[i] + self.task_description for i in range(len(examples))])))\n",
    "        return (self.example_prompt + '\\n'+ \"\\n---\\n\".join([self.description + examples[i] + \"\\n\" +\n",
    "                           self.task_description +\n",
    "                           labels[i] for i in range(len(examples))]))\n",
    "\n",
    "    def extract(self, example):\n",
    "        prompt=self.make_prompt(example)\n",
    "        #print(prompt)\n",
    "        \n",
    "        # model = OPTForCausalLM.from_pretrained(\"/home/user/data/opt-66b\", device_map=\"auto\", load_in_8bit = True)\n",
    "        tokenizer = AutoTokenizer.from_pretrained(\"/home/user/data/opt-66b\")\n",
    "\n",
    "        #prompt = \"I like dog. --dog-- \\nI hate bird. --bird-- \\nI love cat.\"\n",
    "        inputs = tokenizer(prompt, return_tensors=\"pt\")\n",
    "\n",
    "        # Generate\n",
    "        #generate_ids = self.model.generate(inputs.input_ids, temperature=1, repetition_penalty=0.1, length_penalty = -0.5, max_length=1500)\n",
    "        generate_ids = self.model.generate(inputs.input_ids, temperature=0, max_length=1950)\n",
    "        output=tokenizer.batch_decode(generate_ids, skip_special_tokens=True, clean_up_tokenization_spaces=False)[0]\n",
    "        # print(output)\n",
    "        \n",
    "        # extraction = openai.Completion.create(\n",
    "        #     model='text-davinci-002',  # text-ada-001 text-babbage-001 text-curie-001\n",
    "        #     prompt=self.make_prompt(example),\n",
    "        #     temperature=0,\n",
    "        #     max_tokens=1000,\n",
    "        #     top_p=1,\n",
    "        #     frequency_penalty=0.0,\n",
    "        #     presence_penalty=0.0,\n",
    "        #     stop=[\"\\n\"])\n",
    "        return output"
   ]
  },
  {
   "cell_type": "code",
   "execution_count": 4,
   "id": "f5f0ebc4-258a-47fe-9b18-739a76e0600e",
   "metadata": {},
   "outputs": [
    {
     "name": "stdout",
     "output_type": "stream",
     "text": [
      "\n",
      "===================================BUG REPORT===================================\n",
      "Welcome to bitsandbytes. For bug reports, please submit your error trace to: https://github.com/TimDettmers/bitsandbytes/issues\n",
      "================================================================================\n"
     ]
    }
   ],
   "source": [
    "model = OPTForCausalLM.from_pretrained(\"/home/user/data/opt-66b\", device_map=\"auto\", load_in_8bit = True)\n",
    "#model = OPTModel.from_pretrained(\"/home/user/data/opt-66b\", device_map=\"auto\", load_in_8bit = True)"
   ]
  },
  {
   "cell_type": "code",
   "execution_count": 5,
   "id": "b0cbd400-1c61-4b5a-827d-573d2a864838",
   "metadata": {},
   "outputs": [],
   "source": [
    "examples = [\n",
    "    ('pure Al | electron mean free path | 18.9 nm and 22.7 nm', 'The estimated electron mean free path for pure Al is very close to the values reported in the literature, i.e., 18.9 nm and 22.7 nm.'),\n",
    "    ('Magnesium | density | 1.74 g/cm3, Mg alloys | formability | poor, Mg alloys | corrosion | high susceptibility', 'To meet the ever-increasing demand for weight reduction and the associated energy savings, the development of high-performance lightweight materials is urgently needed . Magnesium (Mg) is the lightest structural metal; its density is about 1.74 g/cm3, which is two-thirds that of aluminum (Al) and one-fourth that of steel. In addition, it has high thermal conductivity, high damping capacity, and good biocompatibility, which have attracted considerable interest over the past two decades for potential use in diverse applications. However, owing to the limited number of independent slip systems originating from their hexagonal close-packed (HCP) crystal structure and the development of a strong basal texture during thermomechanical processing, Mg alloys usually exhibit poor formability at room temperature (RT). Moreover, they exhibit high susceptibility to corrosion, which further impedes widespread applications.'),\n",
    "    ('Mg–0.03Cu–0.05Ca alloy | thermal conductivity | 157 W/(m·K), AZ31 alloy | thermal conductivity | 87 W/(m·K)', 'Benefiting from the addition of an extremely small amount of the alloying elements, the Mg–0.03Cu–0.05Ca alloy exhibited an excellent thermal conductivity of 157 W/(m·K), which is close to that of pure Mg, and approximately two times higher than that of the widely used AZ31 alloy (87 W/(m·K)), as summarized in Table4 . Fig.11 shows the formability and thermal conductivity of various Mg sheet alloys, including pure Mg, commercial AZ31, and experimental Mg–Zn-based alloys. As can be seen, the newly developed Mg–0.03Cu–0.05Ca alloy shows not only good formability but also excellent thermal conductivity compared to Mg and other Mg sheet alloys.'),\n",
    "    ('Cu in Mg | maximum solid solubility | 300 PPM by weight at the eutectic temperature of 485°C, Ca in Mg | maximum solid solubility | approximately 1.35 wt.% at the eutectic temperature of 516°C and approximately zero at 200°C.', 'According to the Mg–Cu binary phase diagram, the maximum solid solubility of Cu in Mg is extremely small (300 PPM by weight at the eutectic temperature of 485°C). The maximum solid solubility of Ca in Mg is also rather small (approximately 1.35 wt.% at the eutectic temperature of 516°C and approximately zero at 200°C.'),\n",
    "    ('pure Al and AlSi10Mg | thermal conductivity | 200 and 90 W/mK (at room temperature) in the as-built condition and 240 and 180 W/mK after heat treatment.', 'In the previous studies, pure Al and AlSi10Mg having thermal conductivities of 200 and 90 W/mK (at room temperature) in the as-built condition were manufactured. These values were enhanced to 240 and 180 W/mK after heat treatment.'),\n",
    "    ('No information about material properties', 'Furthermore, adding a large amount of solute substantially deteriorates functional properties such as thermal conductivity and damping capacity. Alternately, adding extremely small amounts of alloying elements, which are effective in improving both the mechanical properties and corrosion resistance of pure Mg, could be an effective method for preserving the functional properties.'),\n",
    "    ('No information about material properties', 'Furthermore, adding a large amount of solute substantially deteriorates functional properties such as thermal conductivity and damping capacity. Alternately, adding extremely small amounts of alloying elements, which are effective in improving both the mechanical properties and corrosion resistance of pure Mg, could be an effective method for preserving the functional properties.'),\n",
    "    ('as-cast CuMgZn | thermal conductivity | 73.8 W/(m·K)', 'The as-cast microstructure of Mg-xZn-xCu(x = 1,3,5) ternary magnesium alloy consists of Mg and CuMgZn. The CuMgZn compound has a high thermal conductivity of 73.8 W/(m·K), which is comparable to Fe.'),\n",
    "    ('LPBF-fabricated pure Al part | thermal conductivity | (∼231 W/mK) and nominal value (237 W/mK)', 'This is the main reason behind the difference observed between the thermal conductivity of the LPBF-fabricated pure Al part (∼231 W/mK) and its nominal value (237 W/mK ). Vacancies and dislocations are the next two important extrinsic scattering sites with contributions of 3.2% and 1%, respectively.'),\n",
    "    ('Mg–2Sn-2.3La alloy | thermal conductivity | 149W/(m·K) and 152W/(m·K) after the solution treatment ', 'La addition could improve the thermal conductivity of Mg–2Sn alloy. The maximum improvement was obtained when the La content was 2.3wt.% with the Sn/La atomic ratio of 1:1. The thermal conductivity was improved by 33% from 112W/(m·K) to 149W/(m·K). The solution treatment further enhanced the thermal conductivity of Mg–2Sn-2.3La alloy to 152W/(m·K).'),\n",
    "]"
   ]
  },
  {
   "cell_type": "code",
   "execution_count": 6,
   "id": "6d729938-6d32-4c93-882b-4a0019396a20",
   "metadata": {},
   "outputs": [],
   "source": [
    "# model, text, extraction, 'text:', 'extraction', 'The task is to extract xxx'\n",
    "TempExtractor = Extractor(model, [e[1] for e in examples], [e[0] for e in examples],\n",
    "                                  \"text:\",\n",
    "                                  \"\",\n",
    "                                  \"The task is to extract materials and conductivity from the text.\")"
   ]
  },
  {
   "cell_type": "code",
   "execution_count": 7,
   "id": "16ac7de6-24ca-4d62-b143-68e70242c2d5",
   "metadata": {},
   "outputs": [],
   "source": [
    "paper_text = get_text_from_xml(r\"./xml\", 'text')\n",
    "input_text = []\n",
    "doi_Num=[]\n",
    "for key in paper_text.keys():\n",
    "    for text in paper_text[key]:\n",
    "        if len(text.split()) > 10:\n",
    "            input_text.append(text)\n",
    "            doi_Num.append(key)\n"
   ]
  },
  {
   "cell_type": "code",
   "execution_count": 8,
   "id": "24657b95-56d7-4322-a0c7-53662f643417",
   "metadata": {},
   "outputs": [
    {
     "name": "stderr",
     "output_type": "stream",
     "text": [
      "  8%|▊         | 1/12 [15:21<2:48:55, 921.43s/it]"
     ]
    },
    {
     "name": "stdout",
     "output_type": "stream",
     "text": [
      "\n",
      "text:The aforementioned studies share these two findings that the LPBF fabricated Al/Al alloys show (i) negligible anisotropy of thermal conductivity and (ii) lower thermal conductivity than that of their wrought counterparts in the as-built condition. Although the former eliminates the need for any post-process heat treatments, the latter makes its implementation inevitable. This study proposes an easily attainable solution to obtain high thermal conductivities for the LPBF fabricated pure Al, AlSi12 (Al-Si binary alloy), and AlSi10Mg (Al-Si-Mg ternary alloy) in the as-built condition and eliminate/alleviate the need for time-consuming and cost-prohibitive post-build heat treatments. The microstructural features of the LPBF fabricated pure Al, AlSi12, and AlSi10Mg parts under the proposed processing condition were examined at nano- to micron-scale and compared to their wrought/cast counterparts as well as the LPBF fabricated parts in the literature. Different factors governing the thermal conductivity of the fabricated pure Al/Al alloys were fundamentally explored and calculated in terms of the electron mean free path. This study fills the knowledge gap in understanding the underlying reasons for the observed thermal behavior of most versatile LPBF fabricated Al/Al alloys for thermal applications and makes their industrial implementation as end-use products more feasible without needing post-build heat treatment.\n",
      "We can learn from the text:LPBF fabricated pure Al/Al alloys | thermal conductivity | (∼231 W/mK) and nominal value (237 W/mK)\n",
      "\n"
     ]
    },
    {
     "name": "stderr",
     "output_type": "stream",
     "text": [
      " 17%|█▋        | 2/12 [26:01<2:05:57, 755.80s/it]"
     ]
    },
    {
     "name": "stdout",
     "output_type": "stream",
     "text": [
      "\n",
      "text:Using the above information, the thermal conductivity ( K ) was calculated at different temperatures as follows :\n",
      "We can learn from the text:calculated thermal conductivity ( K ) at different temperatures as follows :\n",
      "\n"
     ]
    },
    {
     "name": "stderr",
     "output_type": "stream",
     "text": [
      " 25%|██▌       | 3/12 [34:57<1:38:18, 655.39s/it]"
     ]
    },
    {
     "name": "stdout",
     "output_type": "stream",
     "text": [
      "\n",
      "text:Based on Eq. (1), the density of the printed samples is required not only at ambient ( ρ RT ) but also at higher temperatures ( ρ T ) to calculate the thermal conductivity of Al/Al alloys within the desired temperature range of 25–425 °C. To accurately predict the density of samples at higher temperatures, calorimetry test was utilized. The relative change in the physical dimension ( ∆ L / L 0 , L 0 is the initial sample length) versus temperature in the heating cycle is shown in Fig. 3(a-c). The following equation, along with the results shown in Fig. 3(a-c), were used to calculate the density at any desirable temperature:\n",
      "We can learn from the text:Fig. 3(a-c) | relative change in the physical dimension ( ∆ L / L 0 , L 0 is the initial sample length) versus temperature in the heating cycle\n",
      "\n"
     ]
    },
    {
     "name": "stderr",
     "output_type": "stream",
     "text": [
      " 33%|███▎      | 4/12 [41:54<1:14:52, 561.51s/it]"
     ]
    },
    {
     "name": "stdout",
     "output_type": "stream",
     "text": [
      "\n",
      "text:By using the C P and thermal diffusivity results (Fig. 1 and Fig. 4) as well as the calculated ρ ( T ) values, the thermal conductivity ( K ( T ) ) was calculated using Eq. (1). As shown in Fig. 5, the thermal conductivity of pure Al slightly decreases from 230 W/mK at room temperature to 200 W/mK at 425 °C. The thermal conductivities of the AlSi10Mg and AlSi12 samples are almost constant up to 150 and 175 °C, respectively. Then, they dip into their lowest values at 225 and 250 °C. The thermal conductivity of AlSi12 gradually recovers after 250 °C and shows an overall ascending trend thereafter. For AlSi10Mg, there is a local minimum at 300 °C after the gradual recovery from the lowest thermal conductivity value. A gradual increase in thermal conductivity of AlSi10Mg was observed after 300 °C, which finally levels off above 350 °C. Referring to Fig. 1, it can be understood that the C P measurement results are reflected in the thermal conductivity trend. The thermal conductivity of AlSi12 and AlSi10Mg at room temperature was ∼160 and ∼140 W/mK, respectively.\n",
      "We can learn from the text:pure Al | thermal conductivity | 230 W/mK at room temperature, AlSi10Mg | thermal conductivity | 160 W/mK at room temperature, AlSi12 | thermal conductivity | 140 W/mK at room temperature\n",
      "\n"
     ]
    },
    {
     "name": "stderr",
     "output_type": "stream",
     "text": [
      " 42%|████▏     | 5/12 [47:32<56:04, 480.65s/it]  "
     ]
    },
    {
     "name": "stdout",
     "output_type": "stream",
     "text": [
      "\n",
      "text:In the previous studies, pure Al and AlSi10Mg having thermal conductivities of 200 and 90 W/mK (at room temperature) in the as-built condition were manufactured. These values were enhanced to 240 and 180 W/mK after heat treatment. However, in this study, the thermal conductivity of the as-built pure Al was almost equal to that of the heat-treated case (∼230 W/mK at room temperature). Moreover, the thermal conductivity of the as-built AlSi10Mg in preheated conditions was ∼80% higher than that of its non-preheated counterpart. For AlSi12, the preheated sample (this study) showed ∼25% higher thermal conductivity than its non-preheated counterpart (115 W/mK) in the as-built state. Therefore, this study has borne out the possibility of 200 °C of preheating to enhance the thermal conductivity of the as-built samples. It must be highlighted that the whole difference observed between the thermal conductivity of the LPBF-fabricated samples in preheated (this study) and non-preheated (literature) conditions is not merely attributable to the preheating. This is because the process parameters, powder attributes, and oxygen content of the printed samples in this study were not identical to those of the previous studies in the literature. By considering the thermal conductivity for the LPBF-fabricated AlSi10Mg in different studies, values of 90 , 119 , and 130 W/mK (along the building direction) were reported for the non-preheated condition. This clearly shows the role that other variables may have played.\n",
      "We can learn from the text:LPBF-fabricated pure Al part | thermal conductivity | (∼230 W/mK) and nominal value (237 W/mK)\n",
      "\n"
     ]
    },
    {
     "name": "stderr",
     "output_type": "stream",
     "text": [
      " 50%|█████     | 6/12 [56:58<50:59, 509.95s/it]Input length of input_ids is 2002, but `max_length` is set to 1950. This can lead to unexpected behavior. You should consider increasing `max_new_tokens`.\n"
     ]
    },
    {
     "name": "stdout",
     "output_type": "stream",
     "text": [
      "\n",
      "text:In the case of pure Al, preheating could eliminate the need for post-build heat treatment. For AlSi10Mg and AlSi12, the thermal conductivities of the preheated samples in the as-built condition are equal and greater than those reported for die-cast AlSi10Mg (∼160 W/mK) and AlSi12 (120 W/mK) , respectively. Nevertheless, the post-build heat treatment cannot be ignored for Al alloys. In other words, it is still possible to further enhance the thermal conductivity of AlSi12 and AlSi10Mg alloys printed in this study by ∼20 and ∼12% by employing a suitable post-build heat treatment cycle to reach the nominal values of 170 and 185 W/mK reported for their wrought and heat-treated LPBF-fabricated parts, respectively.\n",
      "We can learn from the text:preheating | thermal conductivity | equal and greater than those reported for die-cast AlSi10Mg (∼160 W/mK) and AlSi12 (120 W/mK) , respectively, and post-build heat treatment | thermal conductivity | 170 and 185 W/mK reported for their wrought and heat-treated LPBF-fabricated parts, respectively.\n",
      "\n"
     ]
    },
    {
     "name": "stderr",
     "output_type": "stream",
     "text": [
      " 58%|█████▊    | 7/12 [57:03<28:43, 344.67s/it]"
     ]
    },
    {
     "name": "stdout",
     "output_type": "stream",
     "text": [
      "\n",
      "text:Heat can be transferred either by electrons or lattice vibrations (phonons as heat carriers). In metallic materials, the main mechanism governing the heat transfer is the movement of valance electrons with high energy from the warmer regions to the cooler ones . During their journey, electrons face obstacles known as scattering sites. The scattering phenomena can be divided into two categories of intrinsic and extrinsic events . While intrinsic scattering events such as thermally-induced vibration of atoms (phonon scattering) are mainly material-dependent , the extrinsic ones are highly sensitive to the processing condition. Referring to the microstructural features shown in Fig. 8, Fig. 9, and Fig. 10, along with the XCT results (Fig. 2), the extrinsic scattering sites in the LPBF-fabricated Pure Al, AlSi12, and AlSi10Mg alloys are (i) Si element in the supersaturated α-Al matrix in Al alloys, (ii) non-equilibrium vacancies and dislocations, (iii) nano-size Si and Mg2Si precipitates in the cell regions of AlSi10Mg, (iv) copious cell boundaries due to the formation of an ultrafine, textured, divorced eutectic cellular microstructure in Al alloys, (v) oxides in pure Al, (vi) grain boundaries, and (vii) porosities. The mean free path is the average distance between two consecutive scattering sites. The electron mean free path ( l e ) can be calculated as follows : where V F and τ are the velocity of electrons above the Fermi level and the average time between two subsequent electronic collisions, respectively. The V F in Eq. (4) can be calculated by: in which E f and m e are the Fermi energy and mass of electrons, respectively. τ in Eq. (4) can be calculated as follows : in which ρ , n , and e are the electrical resistivity, number of atoms per volume, and electron charge, respectively. ρ in Eq. (6) can be accurately estimated by the Wiedemann-Franz law as : in which T is the absolute temperature, K is thermal conductivity, and k is the Boltzmann constant. By using Eqs. (4)–(7) and the input data provided in Table 1, l e can be calculated. Depending on the input data, either the intrinsic or combination of intrinsic and extrinsic scattering events can be taken into account. For instance, upon using the theoretical data available in the literature for highly pure and defect-free pure Al with equilibrium microstructure and large grains, the l e value would only represent the intrinsic scattering (phonon scattering) during the heat transfer. However, for the LPBF-fabricated parts, the obtained l e is the aftermath of both intrinsic and extrinsic scattering phenomena. Since the literature has proven that the contribution of phonons as heat carriers (not as scattering sites) is negligible in pure Al , it is not considered in the calculations provided in Table 1 for Al/Al alloys.\n",
      "We can learn from the text:LP\n"
     ]
    },
    {
     "name": "stderr",
     "output_type": "stream",
     "text": [
      " 67%|██████▋   | 8/12 [1:04:24<25:01, 375.50s/it]Input length of input_ids is 2002, but `max_length` is set to 1950. This can lead to unexpected behavior. You should consider increasing `max_new_tokens`.\n"
     ]
    },
    {
     "name": "stdout",
     "output_type": "stream",
     "text": [
      "\n",
      "text:Some important inferences can be drawn from the mean free path calculation results in Table 1. First, the l e of the LPBF-fabricated pure Al (16.2 nm) is considerably greater than those of AlSi10Mg (11.1 nm) and AlSi12 (9.7 nm). The l e values are consistent with the results shown in Fig. 4 and Fig. 5, in which materials with smaller l e values showed lower thermal diffusivity and conductivity. The absence of foreign atoms in pure Al is the main reason behind its higher l e and thermal diffusivity/conductivity compared to the Al alloys. Second, based on the theoretical calculations for pure Al, in which the scattering events are only dictated by intrinsic phenomena, the l e value is in the nanometer length scale. On this account, it can be inferred that extrinsic scattering phenomena at such length scales or smaller could have a major influence on the obtained overall mean free path in the LPBF-fabricated parts. Finally, the theoretical l e value for pure Al was ∼15% lower than the one calculated for the LPBF-fabricated pure Al, meaning that the extrinsic scattering phenomena are not extremely strong in this case.\n",
      "We can learn from the text:LPBF-fabricated pure Al part | mean free path | 16.2 nm, AlSi10Mg part | mean free path | 11.1 nm, AlSi12 part | mean free path | 9.7 nm\n",
      "\n"
     ]
    },
    {
     "name": "stderr",
     "output_type": "stream",
     "text": [
      " 75%|███████▌  | 9/12 [1:04:26<12:56, 258.75s/it]"
     ]
    },
    {
     "name": "stdout",
     "output_type": "stream",
     "text": [
      "\n",
      "text:With the same approach as that of vacancies, the contribution of dislocations to the electron scattering ( l dis ) was calculated using the following equation : where n d is the dislocation density or total length of dislocations per unit volume and σ d is the scattering cross-section of the electrons per unit length of dislocations. Referring to GND density measurement results provided in section ‎3.2.3, the magnitude of n d for the LPBF-fabricated pure Al, AlSi12 and AlSi10Mg was found to be 4.6 × 10 13 , 1.3 × 10 14 , and 6.5 × 1013 m−2, respectively. Fiks used the following formula to estimate σ d : in which ∆ ρ d * signifies the resistivity per unit dislocation density . The rest of the parameters have the same definition as before and are tabulated in Table 1. Raeisinia et al. experimentally measured the magnitude of ∆ ρ d * for Al at room temperature, the result of which is shown in Table 2. By knowing all the parameters in above equation, σ d and consequently the l dis was calculated for the LPBF-fabricated pure Al, AlSi12, and AlSi10Mg, respectively (Table 2). Finally, l SS Si for AlSi12 and AlSi10Mg alloys was estimated as follows : in which n ss is the number of solid solution Si atoms in the matrix per unit volume and the σ ss is the cross-section for the scattering of the electrons by solid solution atoms. Referring to the point EDS analysis results shown in Fig. 9(k) and Fig. 10(l), 2.4 and 1.9 at% of Si exists in the α-Al matrix of the LPBF-fabricated AlSi12 and AlSi10Mg alloys, respectively. It means that among 100 atoms occupying 25 FCC unit cells (4 atoms per unit cell), 2.4 and 1.9 atoms are Si and the rest of them are Al in the respective materials, based on which n ss was calculated. Couch et al. measured the electron scattering cross section of non-magnetic impurities in Al foils. They reported σ ss values in the range of 0.25–5 × 10−20 m2 for Au, Zn, Mg, Cu and Ag as solid solution impurities. Due to the lack of data on Si, the average value of 3 × 10−20 m2 was used for σ ss calculation. By knowing the n ss and σ ss , the l SS Si was calculated for the LPBF-fabricated AlSi12 and AlSi10Mg, respectively (Table 2). The ( l e ) LPBF values in Table 2 obtained from Eq. (8) are in great agreement with the ones directly calculated from Eq. (4)-Eq. (7) using the experimental data on thermal conductivity of the LPBF-fabricated Al/Al alloys, proving the accuracy of this method in predicting the electron mean free path.\n",
      "We can learn from the text:LP\n"
     ]
    },
    {
     "name": "stderr",
     "output_type": "stream",
     "text": [
      " 83%|████████▎ | 10/12 [1:11:52<10:32, 316.36s/it]"
     ]
    },
    {
     "name": "stdout",
     "output_type": "stream",
     "text": [
      "\n",
      "text:The contribution of each scattering phenomenon (intrinsic and extrinsic) to the overall mean free path of conducting electrons is obtained from the data listed in Table 2 (contribution = 1 / l i 1 / l e LPBF ) and is shown in Fig. 13. Valuable information can be obtained from the results listed in Table 2 and provided in Fig. 13. Before anything else, it should be noted that pores and grains are the weakest extrinsic scattering sites in all materials because their length scale is in the order of µm, while the intrinsic scattering phenomena are happening on the nanometer length scale (their contribution is not shown in Fig. 13). For pure Al, the rest of the extrinsic scattering sites are more or less affecting the thermal conductivity, and their contribution is not insignificant. With that being noted, the nano-size Al2O3 observed in TEM images (Fig. 8) with the lowest mean chord length in the matrix is the most important contributing factor (6.9%). This is the main reason behind the difference observed between the thermal conductivity of the LPBF-fabricated pure Al part (∼231 W/mK) and its nominal value (237 W/mK ). Vacancies and dislocations are the next two important extrinsic scattering sites with contributions of 3.2% and 1%, respectively.\n",
      "We can learn from the text:LPBF-fabricated pure Al part | thermal conductivity | (∼231 W/mK) and nominal value (237 W/mK)\n",
      "\n"
     ]
    },
    {
     "name": "stderr",
     "output_type": "stream",
     "text": [
      " 92%|█████████▏| 11/12 [1:16:54<05:11, 311.94s/it]"
     ]
    },
    {
     "name": "stdout",
     "output_type": "stream",
     "text": [
      "\n",
      "text:For Al alloys, the supersaturation of Si in the α-Al matrix is by far the most important extrinsic scattering site with a contribution of 43.3% (AlSi12) and 34% (AlSi10Mg), comparable to that of the intrinsic scattering by phonons. This is the main reason behind the difference observed between the obtained thermal conductivity for AlSi12 (∼140 W/mK) and AlSi10Mg (∼160 W/mK) alloy and their nominal values (170 and 185 W/mK for the respective materials). Among the other factors playing a minor role in the lower thermal conductivity of the AlSi10Mg part, the nano-size Si precipitates within the cells have the highest impact (7.1%). Yet the l Si is one order of magnitude greater than l SS Si and cannot compete with the solid solution Si atoms in terms of scattering strength. In other words, given that there is a mixture between Al and Si elements in an atomic scale in the supersaturated α-Al matrix, these Si atoms are the most detrimental extrinsic scattering sites. This agrees with the findings of a study conducted by Cauwenbergh et al. , which showed that the electrical resistivity of AlSi10Mg was directly proportional to the Si supersaturation level. The overall contribution of dislocations, vacancies, cell boundaries, and Mg2Si (only in AlSi10Mg) to the scattering of electrons was found to be 5.5% and 6.9% for AlSi12 and AlSi10Mg, respectively. Therefore, it is fair to conclude that they did not play a significant role in decreasing the ( l e ) LPBF of LPBF-fabricated Al alloys. Yang et al. suggested that the contribution of cell boundaries in electron scattering cannot be ignored as copious cell boundaries exist within the microstructure of the LPBF fabricated AlSi10Mg alloy. However, the l cb measurements revealed that this value is one order of magnitude greater than the l e value for Al/Al alloys (Table 1) and therefore, its contribution is negligible (Table 2 and Fig. 13) compared to those of the solid solution Si and nano-size Si precipitates.\n",
      "We can learn from the text:AlSi10Mg | thermal conductivity | 160 W/mK and AlSi12 | thermal conductivity | 170 W/mK\n",
      "\n"
     ]
    },
    {
     "name": "stderr",
     "output_type": "stream",
     "text": [
      "100%|██████████| 12/12 [1:22:09<00:00, 410.82s/it]"
     ]
    },
    {
     "name": "stdout",
     "output_type": "stream",
     "text": [
      "\n",
      "text:Results shown in Table 2 and Fig. 13 also provide valuable insights into the main reasons behind the higher thermal conductivity of as-built Al/Al alloys in this study (preheated) than the non-preheated counterparts reported in the literature. Previously, Kimura et al. reported thermal conductivity of ∼200 W/mK for the as-built pure Al (non-preheated) with an oxygen content of 1240 ppm. According to the oxygen content measurements provided in Fig. 11, the optimum pure Al part in this study has 325 ppm oxygen. Therefore, the considerably lower oxygen content of the optimized pure Al part in this study, along with the lower density of dislocations obtained by preheating, justifies the higher thermal conductivity (31 W/mK). While acknowledging that the contribution of dislocations in the non-preheated condition might be higher, it is still logical to conclude that the reported improvement in thermal conductivity of the post-build heat-treated pure Al samples (from 200 to 240 W/mK) in is not merely due to the elimination of dislocations or formation of larger grains, as stated by the authors. The coalescence of the high population of existing nano-size oxides (higher than the oxides of the pure Al sample printed in this study) and a significant increase in their mean chord length in the matrix is another missing factor that can explain such an improvement. As the l oxide in pure Al is tremendously lower than l gb and considerably lower than l dis (Table 2), it can be inferred that, in fact, the coalescence of nano-sized oxides is the main cause behind the enhanced thermal conductivity after the heat treatment.\n",
      "We can learn from the text:Results shown in Table 2 and Fig. 13 also provide valuable insights into the main reasons behind the higher thermal conductivity of as-built Al/Al alloys in this study (preheated) than the non-preheated counterparts reported in the literature. Previously, Kimura et al. reported thermal conductivity of ∼200 W/mK for the as-built pure Al (non-preheated) with an oxygen content of 1240 ppm. According to the oxygen content measurements provided in Fig. 11, the optimum pure Al part in this study has 325 ppm oxygen. Therefore, the considerably lower oxygen content of the optimized pure Al part in this study, along with the lower density of dislocations obtained by preheating, justifies the higher thermal conductivity (31 W/mK). While acknowledging that the contribution of dislocations in the non-preheated condition might be higher, it is still logical to conclude that the reported improvement in thermal conductivity of the post-build heat-treated pure Al samples (from 200 to 240 W/mK) in is not merely due to the elimination of dislocations or formation of larger grains, as stated by the authors.\n"
     ]
    },
    {
     "name": "stderr",
     "output_type": "stream",
     "text": [
      "\n"
     ]
    }
   ],
   "source": [
    "done_list=[]\n",
    "\n",
    "with open('done_list.txt', 'r') as f:\n",
    "    lines = f.readlines()\n",
    "    for line in lines:\n",
    "        done_list.append(line.strip())\n",
    "\n",
    "done_list=[]\n",
    "\n",
    "input_text=[]\n",
    "with open('text_from_paper.txt', 'r') as f:\n",
    "    lines = f.readlines()\n",
    "    for line in lines:\n",
    "        input_text.append(line.strip())\n",
    "        \n",
    "with open('done_list.txt', 'a', encoding='utf-8') as f_done:\n",
    "    with open('results_total.txt', 'a', encoding='utf-8') as f:\n",
    "            results = []\n",
    "            for i in tqdm(range(18, 30, 1)):\n",
    "                if doi_Num[i] not in done_list:\n",
    "                    f_done.writelines(doi_Num[i]+'\\n')\n",
    "                    done_list.append(doi_Num[i])\n",
    "                if doi_Num[i] in done_list and doi_Num[i] != done_list[-1]:\n",
    "                    continue\n",
    "                else:\n",
    "                    try:\n",
    "                        if 'conductivity' in input_text[i] or 'conductivities' in input_text[i]:\n",
    "                            # print(input_text[i])\n",
    "                            generation_text = TempExtractor.extract(input_text[i])\n",
    "                            f.writelines(doi_Num[i] + '\\t' + input_text[i] + '\\t' + generation_text + '\\n')\n",
    "                            print(generation_text.split('---')[10])\n",
    "                            #print(generation_text.split('---')[32])\n",
    "                            #results.append(generation_text)\n",
    "                        else:\n",
    "                            print('Not related!')\n",
    "                    except Exception as e:\n",
    "                        print('ERROR: ', e)\n",
    "            # print(results)"
   ]
  },
  {
   "cell_type": "code",
   "execution_count": null,
   "id": "282bb653-dba6-4210-8b57-3bd06694160f",
   "metadata": {},
   "outputs": [],
   "source": []
  }
 ],
 "metadata": {
  "kernelspec": {
   "display_name": "Python 3 (ipykernel)",
   "language": "python",
   "name": "python3"
  },
  "language_info": {
   "codemirror_mode": {
    "name": "ipython",
    "version": 3
   },
   "file_extension": ".py",
   "mimetype": "text/x-python",
   "name": "python",
   "nbconvert_exporter": "python",
   "pygments_lexer": "ipython3",
   "version": "3.10.6"
  }
 },
 "nbformat": 4,
 "nbformat_minor": 5
}
